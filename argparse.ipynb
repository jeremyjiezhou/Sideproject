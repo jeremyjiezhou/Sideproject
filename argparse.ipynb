{
 "cells": [
  {
   "cell_type": "code",
   "execution_count": 16,
   "metadata": {},
   "outputs": [],
   "source": [
    "import argparse\n",
    "\n",
    "def use_parser():\n",
    "    \n",
    "    if __name__ == '__main__':\n",
    "         # Initialize the parser\n",
    "        parser = argparse.ArgumentParser(\n",
    "            description=\"simple script to demonstrate argparse usage\"\n",
    "        )\n",
    "\n",
    "            # Add the positional parameter\n",
    "        parser.add_argument('printme', help=\"The string to be printed\")\n",
    "    \n",
    "        parser.add_argument(\n",
    "        '-r', '--repeat',\n",
    "        help=\"number of times to print the string\",\n",
    "        type=int,\n",
    "        default=1)\n",
    "    self.use_parser -r\n",
    "\n"
   ]
  }
 ],
 "metadata": {
  "kernelspec": {
   "display_name": "Python 3",
   "language": "python",
   "name": "python3"
  },
  "language_info": {
   "codemirror_mode": {
    "name": "ipython",
    "version": 3
   },
   "file_extension": ".py",
   "mimetype": "text/x-python",
   "name": "python",
   "nbconvert_exporter": "python",
   "pygments_lexer": "ipython3",
   "version": "3.6.5"
  }
 },
 "nbformat": 4,
 "nbformat_minor": 2
}
