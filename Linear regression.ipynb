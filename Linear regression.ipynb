{
 "cells": [
  {
   "cell_type": "code",
   "execution_count": 45,
   "metadata": {},
   "outputs": [
    {
     "name": "stdout",
     "output_type": "stream",
     "text": [
      "Namespace(data_file='sample_data.csv', num_epochs=100, num_samples=100, seed=1234, test_size=0.25, train_size=0.75)\n"
     ]
    },
    {
     "data": {
      "image/png": "[encoded data removed]",
      "text/plain": [
       "<Figure size 432x288 with 1 Axes>"
      ]
     },
     "metadata": {},
     "output_type": "display_data"
    },
    {
     "name": "stdout",
     "output_type": "stream",
     "text": [
      "X_train: (75, 1)\n",
      "y_train: (75,)\n",
      "X_test: (25, 1)\n",
      "y_test: (25,)\n",
      "mean: [8.22952817e-17] 7.350601608872391e-17\n",
      "std: [1.] 1.0\n",
      "train_MSE: 29.14, test_MSE: 35.00\n"
     ]
    },
    {
     "data": {
      "image/png": "[encoded data removed]",
      "text/plain": [
       "<Figure size 1080x360 with 2 Axes>"
      ]
     },
     "metadata": {},
     "output_type": "display_data"
    },
    {
     "name": "stdout",
     "output_type": "stream",
     "text": [
      "[10.50158072 14.14515288 17.78872504]\n",
      "[3.64357519]\n",
      "[10.50158285]\n"
     ]
    }
   ],
   "source": [
    "from argparse import Namespace\n",
    "import matplotlib.pyplot as plt\n",
    "import numpy as np\n",
    "import pandas as pd\n",
    "\n",
    "# Arguments\n",
    "args = Namespace(\n",
    "    seed=1234,\n",
    "    data_file=\"sample_data.csv\",\n",
    "    num_samples=100,\n",
    "    train_size=0.75,\n",
    "    test_size=0.25,\n",
    "    num_epochs=100,\n",
    ")\n",
    "print(args)\n",
    "# Set seed for reproducability\n",
    "# random.seed makes sure everytime it returns the same random numbers\n",
    "np.random.seed(args.seed) \n",
    "\n",
    "# Generate synthetic data\n",
    "def generate_data(num_samples):\n",
    "    X = np.array(range(num_samples))\n",
    "    random_noise = np.random.uniform(-10,10,size=num_samples)\n",
    "    y = 3.65*X + 10 + random_noise # add some noise\n",
    "    return X, y\n",
    "\n",
    "# Generate random (linear) data\n",
    "X, y = generate_data(args.num_samples)\n",
    "data = np.vstack([X, y]).T\n",
    "df = pd.DataFrame(data, columns=['X', 'y'])\n",
    "df.head()\n",
    "\n",
    "# Scatter plot\n",
    "plt.title(\"Generated data\")\n",
    "plt.scatter(x=df[\"X\"], y=df[\"y\"])\n",
    "plt.xlim(0,2)\n",
    "plt.ylim(10,20)\n",
    "plt.show()\n",
    "\n",
    "# Import packages\n",
    "from sklearn.linear_model.stochastic_gradient import SGDRegressor\n",
    "from sklearn.preprocessing import StandardScaler\n",
    "from sklearn.model_selection import train_test_split\n",
    "\n",
    "# Create data splits\n",
    "X_train, X_test, y_train, y_test = train_test_split(\n",
    "    df[\"X\"].values.reshape(-1, 1), df[\"y\"], test_size=args.test_size, \n",
    "    random_state=args.seed)\n",
    "print (\"X_train:\", X_train.shape)\n",
    "print (\"y_train:\", y_train.shape)\n",
    "print (\"X_test:\", X_test.shape)\n",
    "print (\"y_test:\", y_test.shape)\n",
    "\n",
    "# Standardize the data (mean=0, std=1) using training data\n",
    "X_scaler = StandardScaler().fit(X_train)\n",
    "y_scaler = StandardScaler().fit(y_train.values.reshape(-1,1))\n",
    "\n",
    "# Apply scaler on training and test data\n",
    "standardized_X_train = X_scaler.transform(X_train)\n",
    "standardized_y_train = y_scaler.transform(y_train.values.reshape(-1,1)).ravel()\n",
    "standardized_X_test = X_scaler.transform(X_test)\n",
    "standardized_y_test = y_scaler.transform(y_test.values.reshape(-1,1)).ravel()\n",
    "\n",
    "\n",
    "# Check\n",
    "print (\"mean:\", np.mean(standardized_X_train, axis=0), \n",
    "       np.mean(standardized_y_train, axis=0)) # mean should be ~0\n",
    "print (\"std:\", np.std(standardized_X_train, axis=0), \n",
    "       np.std(standardized_y_train, axis=0))   # std should be 1\n",
    "\n",
    "# Initialize the model\n",
    "lm = SGDRegressor(loss=\"squared_loss\", penalty=\"none\", max_iter=args.num_epochs)\n",
    "\n",
    "# Train\n",
    "lm.fit(X=standardized_X_train, y=standardized_y_train)\n",
    "# Predictions (unstandardize them)\n",
    "pred_train = (lm.predict(standardized_X_train) * np.sqrt(y_scaler.var_)) + y_scaler.mean_\n",
    "pred_test = (lm.predict(standardized_X_test) * np.sqrt(y_scaler.var_)) + y_scaler.mean_\n",
    "\n",
    "import matplotlib.pyplot as plt\n",
    "\n",
    "# Train and test MSE\n",
    "train_mse = np.mean((y_train - pred_train) ** 2)\n",
    "test_mse = np.mean((y_test - pred_test) ** 2)\n",
    "print (\"train_MSE: {0:.2f}, test_MSE: {1:.2f}\".format(train_mse, test_mse))\n",
    "\n",
    "# Figure size\n",
    "plt.figure(figsize=(15,5))\n",
    "\n",
    "# Plot train data\n",
    "plt.subplot(1, 2, 1)\n",
    "plt.title(\"Train\")\n",
    "plt.scatter(X_train, y_train, label=\"y_train\")\n",
    "plt.plot(X_train, pred_train, color=\"red\", linewidth=1, linestyle=\"-\", label=\"lm\")\n",
    "plt.legend(loc='lower right')\n",
    "\n",
    "# Plot test data\n",
    "plt.subplot(1, 2, 2)\n",
    "plt.title(\"Test\")\n",
    "plt.scatter(X_test, y_test, label=\"y_test\")\n",
    "plt.plot(X_test, pred_test, color=\"red\", linewidth=1, linestyle=\"-\", label=\"lm\")\n",
    "plt.legend(loc='lower right')\n",
    "\n",
    "# Show plots\n",
    "plt.show()\n",
    "\n",
    "# Feed in your own inputs\n",
    "X_infer = np.array((0, 1, 2), dtype=np.float32)\n",
    "standardized_X_infer = X_scaler.transform(X_infer.reshape(-1, 1))\n",
    "pred_infer = (lm.predict(standardized_X_infer) * np.sqrt(y_scaler.var_)) + y_scaler.mean_\n",
    "print (pred_infer)\n",
    "df.head(3)\n",
    "\n",
    "# Unstandardize coefficients \n",
    "coef = lm.coef_ * (y_scaler.scale_/X_scaler.scale_)\n",
    "intercept = lm.intercept_ * y_scaler.scale_ + y_scaler.mean_ - np.sum(coef*X_scaler.mean_)\n",
    "print (coef) # ~3.65\n",
    "print (intercept) # ~10"
   ]
  }
 ],
 "metadata": {
  "kernelspec": {
   "display_name": "Python 3",
   "language": "python",
   "name": "python3"
  },
  "language_info": {
   "codemirror_mode": {
    "name": "ipython",
    "version": 3
   },
   "file_extension": ".py",
   "mimetype": "text/x-python",
   "name": "python",
   "nbconvert_exporter": "python",
   "pygments_lexer": "ipython3",
   "version": "3.6.5"
  }
 },
 "nbformat": 4,
 "nbformat_minor": 2
}
